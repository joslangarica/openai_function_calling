{
 "cells": [
  {
   "cell_type": "code",
   "execution_count": 1,
   "id": "0b9e8024",
   "metadata": {},
   "outputs": [],
   "source": [
    "import os\n",
    "import openai\n",
    "from clima import get_clima\n",
    "import json"
   ]
  },
  {
   "cell_type": "markdown",
   "id": "f6c53c46",
   "metadata": {},
   "source": []
  },
  {
   "cell_type": "code",
   "execution_count": 5,
   "id": "8eeb01e2",
   "metadata": {},
   "outputs": [],
   "source": [
    "openai.api_key = os.getenv('OPENAI_API_KEY')\n",
    "weather_api_key = os.getenv(\"WEATHER_API_KEY\")"
   ]
  },
  {
   "cell_type": "code",
   "execution_count": 6,
   "id": "0f52a109",
   "metadata": {},
   "outputs": [],
   "source": [
    "def run_conversation():\n",
    "    messages = [\n",
    "        {\"role\": \"user\", \"content\": \"What's the weather like in Mexico City?\"}]\n",
    "    # describe function\n",
    "    function_definition = [\n",
    "        {\n",
    "            \"name\": \"get_clima\",\n",
    "            \"description\": \"Get the current weather in a given location\",\n",
    "            \"parameters\": {\n",
    "                    \"type\": \"object\",\n",
    "                    \"properties\": {\n",
    "                        \"location\": {\n",
    "                            \"type\": \"string\",\n",
    "                            \"description\": \"The city and state, e.g. San Francisco, CA\",\n",
    "                        },\n",
    "                    },\n",
    "                \"required\": [\"location\"],\n",
    "            },\n",
    "        }\n",
    "    ]\n",
    "\n",
    "    first_call = openai.ChatCompletion.create(\n",
    "        model='gpt-3.5-turbo-0613',\n",
    "        messages=messages,\n",
    "        functions=function_definition,\n",
    "        function_call='auto'\n",
    "    )\n",
    "\n",
    "    resultado = first_call.choices[0].message\n",
    "\n",
    "    params = json.loads(resultado.function_call.arguments)\n",
    "    location = json.loads(resultado.function_call.arguments).get('location')\n",
    "    function_to_call = resultado.function_call.name\n",
    "    print(\"First call RESULTADO: \", resultado)\n",
    "    print(\"PARAMS: \", params),\n",
    "    print(\"LOCATION: \", location)\n",
    "    print('FUNCTION THAT AI DECIDED TO CALL: ', function_to_call)\n",
    "\n",
    "    if resultado.get('function_call'):\n",
    "        available_functions = {\n",
    "            'get_clima': get_clima\n",
    "        }\n",
    "        function_name = resultado['function_call']['name']\n",
    "        function_to_call = available_functions[function_name]\n",
    "        function_args = params,\n",
    "        function_response = function_to_call(\n",
    "            api_key=os.getenv('WEATHER_API_KEY'),\n",
    "            location=location\n",
    "        )\n",
    "\n",
    "        messages.append(resultado)\n",
    "        messages.append(\n",
    "            {\n",
    "                'role': 'function',\n",
    "                'name': function_name,\n",
    "                'content': function_response,\n",
    "            }\n",
    "        )\n",
    "\n",
    "        second_response = openai.ChatCompletion.create(\n",
    "            model='gpt-3.5-turbo-0613',\n",
    "            messages=messages,\n",
    "        )\n",
    "\n",
    "        print(\"WEATHER API RESULT FOR TESTING: \",\n",
    "              get_clima(weather_api_key, location))\n",
    "        return second_response"
   ]
  },
  {
   "cell_type": "code",
   "execution_count": 7,
   "id": "b9b47d42",
   "metadata": {},
   "outputs": [
    {
     "name": "stdout",
     "output_type": "stream",
     "text": [
      "First call RESULTADO:  {\n",
      "  \"role\": \"assistant\",\n",
      "  \"content\": null,\n",
      "  \"function_call\": {\n",
      "    \"name\": \"get_clima\",\n",
      "    \"arguments\": \"{\\n\\\"location\\\": \\\"Mexico City\\\"\\n}\"\n",
      "  }\n",
      "}\n",
      "PARAMS:  {'location': 'Mexico City'}\n",
      "LOCATION:  Mexico City\n",
      "FUNCTION THAT AI DECIDED TO CALL:  get_clima\n",
      "WEATHER API RESULT FOR TESTING:  {\n",
      "    \"location\": \"Mexico City\",\n",
      "    \"temperature\": \"23.0\\u00b0C\",\n",
      "    \"condition\": \"Partly cloudy\",\n",
      "    \"wind\": \"9.0 kph\",\n",
      "    \"humidity\": \"41%\"\n",
      "}\n",
      "{\n",
      "  \"id\": \"chatcmpl-821ORIC9MA0iFddeFqOo70WK3sWSI\",\n",
      "  \"object\": \"chat.completion\",\n",
      "  \"created\": 1695492703,\n",
      "  \"model\": \"gpt-3.5-turbo-0613\",\n",
      "  \"choices\": [\n",
      "    {\n",
      "      \"index\": 0,\n",
      "      \"message\": {\n",
      "        \"role\": \"assistant\",\n",
      "        \"content\": \"The weather in Mexico City is currently 23.0\\u00b0C with a partly cloudy sky. The wind is blowing at 9.0 kph, and the humidity level is 41%.\"\n",
      "      },\n",
      "      \"finish_reason\": \"stop\"\n",
      "    }\n",
      "  ],\n",
      "  \"usage\": {\n",
      "    \"prompt_tokens\": 92,\n",
      "    \"completion_tokens\": 38,\n",
      "    \"total_tokens\": 130\n",
      "  }\n",
      "}\n"
     ]
    }
   ],
   "source": [
    "print(run_conversation())\n"
   ]
  },
  {
   "cell_type": "code",
   "execution_count": null,
   "id": "16bb0547",
   "metadata": {},
   "outputs": [],
   "source": []
  },
  {
   "cell_type": "code",
   "execution_count": null,
   "id": "87287388",
   "metadata": {},
   "outputs": [],
   "source": []
  },
  {
   "cell_type": "code",
   "execution_count": null,
   "id": "5ef3c9af",
   "metadata": {},
   "outputs": [],
   "source": []
  },
  {
   "cell_type": "code",
   "execution_count": null,
   "id": "acce0b4b",
   "metadata": {},
   "outputs": [],
   "source": []
  },
  {
   "cell_type": "code",
   "execution_count": null,
   "id": "be10ec2e",
   "metadata": {},
   "outputs": [],
   "source": []
  },
  {
   "cell_type": "code",
   "execution_count": null,
   "id": "1fff0751",
   "metadata": {},
   "outputs": [],
   "source": []
  }
 ],
 "metadata": {
  "kernelspec": {
   "display_name": "Python 3 (ipykernel)",
   "language": "python",
   "name": "python3"
  },
  "language_info": {
   "codemirror_mode": {
    "name": "ipython",
    "version": 3
   },
   "file_extension": ".py",
   "mimetype": "text/x-python",
   "name": "python",
   "nbconvert_exporter": "python",
   "pygments_lexer": "ipython3",
   "version": "3.10.9"
  }
 },
 "nbformat": 4,
 "nbformat_minor": 5
}
